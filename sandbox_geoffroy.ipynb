{
 "cells": [
  {
   "cell_type": "code",
   "execution_count": 1,
   "metadata": {},
   "outputs": [],
   "source": [
    "%load_ext autoreload\n",
    "%autoreload 2"
   ]
  },
  {
   "cell_type": "code",
   "execution_count": null,
   "metadata": {},
   "outputs": [],
   "source": [
    "import jax\n",
    "import jax.numpy as jnp\n",
    "\n",
    "\n",
    "from diffuse.conditional import CondSDE\n",
    "from diffuse.inference import generate_cond_sampleV2\n",
    "from diffuse.sde import SDE, SDEState, LinearSchedule\n",
    "from diffuse.unet import UNet\n",
    "\n",
    "from vraie_vie.wmh.create_dataset import WMH\n",
    "from vraie_vie.wmh.design import main\n",
    "from vraie_vie.utils import maskAno, maskSpiral, slice_inverse_fourier\n",
    "\n",
    "import matplotlib.pyplot as plt\n",
    "from functools import partial\n",
    "import os\n",
    "\n",
    "jax.config.update(\"jax_enable_x64\", False)"
   ]
  },
  {
   "cell_type": "code",
   "execution_count": 3,
   "metadata": {},
   "outputs": [],
   "source": [
    "config = {\n",
    "    \"modality\": \"FLAIR\",\n",
    "    \"slice_size_template\": 49,\n",
    "    \"begin_slice\": 26,\n",
    "    \"flair_template_path\": \"/lustre/fswork/projects/rech/hlp/uha64uw/projet_p/WMH/MNI-FLAIR-2.0mm.nii.gz\",\n",
    "    # \"path_dataset\": \"/Users/geoffroyoudoumanessah/Documents/these/projects/datasets/WMH\",\n",
    "    \"path_dataset\": \"/lustre/fswork/projects/rech/hlp/uha64uw/projet_p/WMH\",\n",
    "    \"save_path\": \"/lustre/fswork/projects/rech/hlp/uha64uw/projet_p/WMH/models/\",\n",
    "    \"n_epochs\": 4000,\n",
    "    \"batch_size\": 32,\n",
    "    \"num_workers\": 0,\n",
    "    \"n_t\": 32,\n",
    "    \"tf\": 2.0,\n",
    "    \"lr\": 2e-4,\n",
    "}"
   ]
  },
  {
   "cell_type": "markdown",
   "metadata": {
    "jp-MarkdownHeadingCollapsed": true
   },
   "source": [
    "# Sampling"
   ]
  },
  {
   "cell_type": "code",
   "execution_count": null,
   "metadata": {},
   "outputs": [],
   "source": [
    "# Retrieve trained Parameters\n",
    "\n",
    "checkpoint = jnp.load(\n",
    "    os.path.join(config[\"save_path\"], \"ann_3795.npz\"), allow_pickle=True\n",
    ")\n",
    "\n",
    "params = checkpoint[\"params\"].item()\n",
    "\n",
    "# Get the Datasets\n",
    "wmh = WMH(config)\n",
    "wmh.setup()\n",
    "train_loader = wmh.get_train_dataloader().dataset\n",
    "\n",
    "# Get the ScoreNet\n",
    "nn_unet = UNet(config[\"tf\"] / config[\"n_t\"], 64, upsampling=\"pixel_shuffle\")\n",
    "\n",
    "\n",
    "def nn_score_(x, t, scoreNet, params):\n",
    "    return scoreNet.apply(params, x, t)\n",
    "\n",
    "\n",
    "nn_score = partial(nn_score_, scoreNet=nn_unet, params=params)"
   ]
  },
  {
   "cell_type": "code",
   "execution_count": null,
   "metadata": {},
   "outputs": [],
   "source": [
    "n_steps = 1000\n",
    "key = jax.random.PRNGKey(0)\n",
    "\n",
    "ts = jnp.array([config[\"tf\"]])\n",
    "dts = jnp.array([2.0 / n_steps] * (n_steps))\n",
    "\n",
    "beta = LinearSchedule(b_min=0.02, b_max=5.0, t0=0.0, T=2.0)\n",
    "sde = SDE(beta=beta)\n",
    "\n",
    "for _ in range(10):\n",
    "    key, subkey = jax.random.split(key)\n",
    "    init_samples = jax.random.normal(subkey, train_loader[0].shape)\n",
    "    state_f = SDEState(position=init_samples, t=ts)\n",
    "\n",
    "    revert_sde = partial(sde.reverso, score=nn_score, dts=dts)\n",
    "\n",
    "    key, subkey = jax.random.split(key)\n",
    "    state_0, state_Ts = revert_sde(subkey, state_f)\n",
    "\n",
    "    plt.imshow(state_Ts.position[-1][..., 0], cmap=\"gray\")\n",
    "    plt.show()"
   ]
  },
  {
   "cell_type": "code",
   "execution_count": null,
   "metadata": {},
   "outputs": [],
   "source": [
    "# On bruite\n",
    "key = jax.random.PRNGKey(0)\n",
    "\n",
    "x0_samples = jnp.array([train_loader[k] for k in range(config[\"batch_size\"])])\n",
    "n_x0 = x0_samples.shape[0]\n",
    "\n",
    "key, subkey = jax.random.split(key)\n",
    "ts = jax.random.uniform(key, (config[\"n_t\"] - 1, 1), minval=1e-5, maxval=config[\"tf\"])\n",
    "ts = jnp.concatenate([ts, jnp.array([[config[\"tf\"]]])], axis=0)\n",
    "\n",
    "state_0 = SDEState(x0_samples, jnp.zeros((n_x0, 1)))\n",
    "keys_x = jax.random.split(key, n_x0)\n",
    "state = jax.vmap(sde.path, in_axes=(0, 0, 0))(keys_x, state_0, ts)\n",
    "\n",
    "# On sample\n",
    "n_steps = 1000\n",
    "\n",
    "ts = jnp.array([config[\"tf\"]])\n",
    "dts = jnp.array([2.0 / n_steps] * (n_steps))\n",
    "\n",
    "beta = LinearSchedule(b_min=0.02, b_max=5.0, t0=0.0, T=2.0)\n",
    "sde = SDE(beta=beta)\n",
    "\n",
    "key, subkey = jax.random.split(key)\n",
    "init_samples = state.position[30]\n",
    "state_f = SDEState(position=init_samples, t=ts)\n",
    "\n",
    "revert_sde = partial(sde.reverso, score=nn_score, dts=dts)\n",
    "\n",
    "key, subkey = jax.random.split(key)\n",
    "state_0, state_Ts = revert_sde(subkey, state_f)"
   ]
  },
  {
   "cell_type": "code",
   "execution_count": null,
   "metadata": {},
   "outputs": [],
   "source": [
    "plt.subplot(1, 2, 1)\n",
    "plt.imshow(x0_samples[30][..., 0], cmap=\"gray\")\n",
    "\n",
    "plt.subplot(1, 2, 2)\n",
    "plt.imshow(state_Ts.position[-1][..., 0], cmap=\"gray\")\n",
    "plt.show()"
   ]
  },
  {
   "cell_type": "markdown",
   "metadata": {},
   "source": [
    "# Conditional"
   ]
  },
  {
   "cell_type": "code",
   "execution_count": null,
   "metadata": {},
   "outputs": [],
   "source": [
    "# Load dataset\n",
    "wmh = WMH(config)\n",
    "wmh.setup()\n",
    "train_loader = wmh.get_test_dataloader().dataset\n",
    "\n",
    "key = jax.random.PRNGKey(0)\n",
    "beta = LinearSchedule(b_min=0.02, b_max=5.0, t0=0.0, T=2.0)\n",
    "\n",
    "checkpoint = jnp.load(\n",
    "    os.path.join(config[\"save_path\"], \"ann_3795.npz\"), allow_pickle=True\n",
    ")\n",
    "\n",
    "\n",
    "nn_unet = UNet(config[\"tf\"] / config[\"n_t\"], 64, upsampling=\"pixel_shuffle\")\n",
    "params = checkpoint[\"params\"].item()\n",
    "\n",
    "\n",
    "def nn_score_(x, t, scoreNet, params):\n",
    "    return scoreNet.apply(params, x, t)\n",
    "\n",
    "\n",
    "nn_score = partial(nn_score_, scoreNet=nn_unet, params=params)\n",
    "\n",
    "sde = SDE(beta=beta)\n",
    "\n",
    "\n",
    "x = jnp.array(train_loader[680])\n",
    "plt.imshow(x[..., 0], cmap=\"gray\")\n",
    "plt.show()"
   ]
  },
  {
   "cell_type": "code",
   "execution_count": null,
   "metadata": {},
   "outputs": [],
   "source": [
    "size = (92, 112)\n",
    "\n",
    "mask_spiral = maskSpiral(img_shape=size, num_spiral=3, num_samples=50000, sigma=0.2)\n",
    "cond_sde = CondSDE(beta=beta, mask=mask_spiral, tf=2.0, score=nn_score)\n",
    "\n",
    "xi = jnp.array([3.5, 2.0])  # FOV, k_max\n",
    "y = mask_spiral.measure(xi, x)\n",
    "x_sub = slice_inverse_fourier(y[..., 0])\n",
    "\n",
    "mask = mask_spiral.make(xi)\n",
    "\n",
    "res = generate_cond_sampleV2(y, mask, key, cond_sde, x.shape, 1000, 300)"
   ]
  },
  {
   "cell_type": "code",
   "execution_count": null,
   "metadata": {},
   "outputs": [],
   "source": [
    "fig, axs = plt.subplots(2, 3, figsize=(20, 10))\n",
    "axs[0, 0].imshow(x[..., 0], cmap=\"gray\")\n",
    "axs[0, 0].set_title(\"Original Image\")\n",
    "\n",
    "\n",
    "mask = mask_spiral.make(xi)\n",
    "axs[0, 1].imshow(mask, cmap=\"gray\")\n",
    "axs[0, 1].set_title(\"Fourier Mask\")\n",
    "\n",
    "\n",
    "axs[0, 2].imshow(res[0][0].position[-1, ..., 0], cmap=\"gray\")\n",
    "axs[0, 2].set_title(\"Reconstructed Image\")\n",
    "\n",
    "\n",
    "axs[1, 0].imshow(x[..., 1], cmap=\"gray\")\n",
    "axs[1, 0].set_title(\"Original Anomaly Map\")\n",
    "\n",
    "\n",
    "axs[1, 1].imshow(x_sub, cmap=\"gray\")\n",
    "axs[1, 1].set_title(\"Subsampled reconstruction\")\n",
    "\n",
    "axs[1, 2].imshow(res[0][0].position[-1, ..., 1], cmap=\"gray\")\n",
    "axs[1, 2].set_title(\"Reconstructed Anomaly Map\")\n",
    "\n",
    "plt.tight_layout()\n",
    "plt.show()"
   ]
  },
  {
   "cell_type": "markdown",
   "metadata": {
    "jp-MarkdownHeadingCollapsed": true
   },
   "source": [
    "# Design"
   ]
  },
  {
   "cell_type": "code",
   "execution_count": null,
   "metadata": {},
   "outputs": [],
   "source": [
    "rng_key = key = jax.random.PRNGKey(0)\n",
    "state = main(rng_key)"
   ]
  },
  {
   "cell_type": "markdown",
   "metadata": {},
   "source": [
    "# Evaluation"
   ]
  },
  {
   "cell_type": "code",
   "execution_count": null,
   "metadata": {},
   "outputs": [],
   "source": [
    "wmh = WMH(config)\n",
    "wmh.setup()\n",
    "test_loader = wmh.get_test_dataloader().dataset\n",
    "\n",
    "key = jax.random.PRNGKey(0)\n",
    "beta = LinearSchedule(b_min=0.02, b_max=5.0, t0=0.0, T=2.0)\n",
    "\n",
    "checkpoint = jnp.load(\n",
    "    os.path.join(config[\"save_path\"], \"ann_3795.npz\"), allow_pickle=True\n",
    ")\n",
    "\n",
    "\n",
    "nn_unet = UNet(config[\"tf\"] / config[\"n_t\"], 64, upsampling=\"pixel_shuffle\")\n",
    "params = checkpoint[\"params\"].item()\n",
    "\n",
    "\n",
    "def nn_score_(x, t, scoreNet, params):\n",
    "    return scoreNet.apply(params, x, t)\n",
    "\n",
    "\n",
    "nn_score = partial(nn_score_, scoreNet=nn_unet, params=params)\n",
    "\n",
    "sde = SDE(beta=beta)\n",
    "\n",
    "\n",
    "x = jnp.array(test_loader[680])\n",
    "\n",
    "plt.imshow(x[..., 0], cmap=\"gray\")\n",
    "plt.tight_layout()\n",
    "plt.show()"
   ]
  },
  {
   "cell_type": "code",
   "execution_count": null,
   "metadata": {},
   "outputs": [],
   "source": [
    "size = (92, 112)\n",
    "\n",
    "mask_ano = maskAno(img_shape=size)\n",
    "cond_sde = CondSDE(beta=beta, mask=mask_ano, tf=2.0, score=nn_score)\n",
    "\n",
    "xi = jnp.array(0.0)\n",
    "y = mask_ano.measure(xi, x)\n",
    "\n",
    "mask = mask_ano.make(xi)\n",
    "\n",
    "res = generate_cond_sampleV2(y, mask, key, cond_sde, x.shape, 1000, 300)"
   ]
  },
  {
   "cell_type": "code",
   "execution_count": null,
   "metadata": {},
   "outputs": [],
   "source": [
    "fig, axs = plt.subplots(2, 2, figsize=(20, 10))\n",
    "axs[0, 0].imshow(x[..., 0], cmap=\"gray\")\n",
    "axs[0, 1].imshow(x[..., 1], cmap=\"gray\")\n",
    "axs[1, 0].imshow(res[0][0].position[1, ..., 0], cmap=\"gray\")\n",
    "axs[1, 1].imshow(res[0][0].position[1, ..., 1], cmap=\"gray\")\n",
    "\n",
    "plt.tight_layout()\n",
    "plt.show()"
   ]
  },
  {
   "cell_type": "markdown",
   "metadata": {},
   "source": [
    "# BRATS"
   ]
  },
  {
   "cell_type": "code",
   "execution_count": 4,
   "metadata": {},
   "outputs": [],
   "source": [
    "config = {\n",
    "    \"path_dataset\": \"/Users/geoffroyoudoumanessah/Documents/these/projects/datasets/BRATS_inpainting/ASNR-MICCAI-BraTS2023-Local-Synthesis-Challenge-Training\",\n",
    "    \"n_epochs\": 4000,\n",
    "    \"batch_size\": 32,\n",
    "    \"num_workers\": 0,\n",
    "    \"n_t\": 32,\n",
    "    \"tf\": 2.0,\n",
    "    \"lr\": 2e-4,\n",
    "}"
   ]
  },
  {
   "cell_type": "code",
   "execution_count": 26,
   "metadata": {},
   "outputs": [],
   "source": [
    "from vraie_vie.brats.create_dataset import get_train_dataloader\n",
    "\n",
    "train_loader = get_train_dataloader(config)\n"
   ]
  }
 ],
 "metadata": {
  "kernelspec": {
   "display_name": "aistat",
   "language": "python",
   "name": "python3"
  },
  "language_info": {
   "codemirror_mode": {
    "name": "ipython",
    "version": 3
   },
   "file_extension": ".py",
   "mimetype": "text/x-python",
   "name": "python",
   "nbconvert_exporter": "python",
   "pygments_lexer": "ipython3",
   "version": "3.12.4"
  }
 },
 "nbformat": 4,
 "nbformat_minor": 4
}
