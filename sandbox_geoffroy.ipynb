{
 "cells": [
  {
   "cell_type": "markdown",
   "metadata": {},
   "source": [
    "# Sampling"
   ]
  },
  {
   "cell_type": "code",
   "execution_count": 1,
   "metadata": {},
   "outputs": [],
   "source": [
    "%load_ext autoreload\n",
    "%autoreload 2"
   ]
  },
  {
   "cell_type": "code",
   "execution_count": 3,
   "metadata": {},
   "outputs": [],
   "source": [
    "from functools import partial\n",
    "import os\n",
    "\n",
    "import jax\n",
    "import jax.numpy as jnp\n",
    "\n",
    "import matplotlib.pyplot as plt\n",
    "\n",
    "from optax import EmaState, EmptyState, ScaleByAdamState, ScaleByScheduleState\n",
    "\n",
    "from diffuse.conditional import CondSDE\n",
    "from diffuse.filter import generate_cond_sample\n",
    "from diffuse.sde import SDE, SDEState, LinearSchedule\n",
    "from diffuse.unet import UNet\n",
    "from vraie_vie.create_dataset import WMH\n",
    "from vraie_vie.utils import maskSpiral\n",
    "\n",
    "jax.config.update(\"jax_enable_x64\", False)"
   ]
  },
  {
   "cell_type": "code",
   "execution_count": null,
   "metadata": {},
   "outputs": [],
   "source": [
    "config = {\n",
    "    \"modality\": \"FLAIR\",\n",
    "    \"slice_size_template\": 49,\n",
    "    \"begin_slice\": 26,\n",
    "    \"flair_template_path\": \"/lustre/fswork/projects/rech/hlp/uha64uw/aistat24/WMH/MNI-FLAIR-2.0mm.nii.gz\",\n",
    "    \"path_dataset\": \"/Users/geoffroyoudoumanessah/Documents/these/projects/datasets/WMH\",\n",
    "    # \"path_dataset\": \"/lustre/fswork/projects/rech/hlp/uha64uw/aistat24/WMH\",\n",
    "    \"save_path\": \"/lustre/fswork/projects/rech/hlp/uha64uw/aistat24/WMH/models/\",\n",
    "    \"n_epochs\": 4000,\n",
    "    \"batch_size\": 1,\n",
    "    \"num_workers\": 0,\n",
    "    \"n_t\": 32,\n",
    "    \"tf\": 2.0,\n",
    "    \"lr\": 2e-4,\n",
    "}"
   ]
  },
  {
   "cell_type": "code",
   "execution_count": null,
   "metadata": {},
   "outputs": [],
   "source": [
    "# Retrieve trained Parameters\n",
    "\n",
    "checkpoint = jnp.load(\n",
    "    os.path.join(config[\"save_path\"], \"ann_1740.npz\"), allow_pickle=True\n",
    ")\n",
    "\n",
    "params = checkpoint[\"params\"].item()\n",
    "\n",
    "ema_state = EmaState(count=checkpoint[\"ema_state\"][0], ema=checkpoint[\"ema_state\"][1])\n",
    "\n",
    "opt_state = (\n",
    "    EmptyState(),\n",
    "    (\n",
    "        ScaleByAdamState(\n",
    "            count=checkpoint[\"opt_state_2\"][0],\n",
    "            mu=checkpoint[\"opt_state_2\"][1],\n",
    "            nu=checkpoint[\"opt_state_2\"][2],\n",
    "        ),\n",
    "        ScaleByScheduleState(checkpoint[\"opt_state_3\"][0]),\n",
    "    ),\n",
    ")\n",
    "\n",
    "# Get the Datasets\n",
    "wmh = WMH(config)\n",
    "wmh.setup()\n",
    "train_loader = wmh.get_train_dataloader().dataset\n",
    "\n",
    "# Get the ScoreNet\n",
    "nn_unet = UNet(config[\"tf\"] / config[\"n_t\"], 64, upsampling=\"pixel_shuffle\")\n",
    "\n",
    "\n",
    "def nn_score_(x, t, scoreNet, params):\n",
    "    return scoreNet.apply(params, x, t)\n",
    "\n",
    "\n",
    "nn_score = partial(nn_score_, scoreNet=nn_unet, params=params)"
   ]
  },
  {
   "cell_type": "code",
   "execution_count": null,
   "metadata": {},
   "outputs": [],
   "source": [
    "n_steps = 1000\n",
    "key = jax.random.PRNGKey(0)\n",
    "\n",
    "ts = jnp.array([config[\"tf\"]])\n",
    "dts = jnp.array([2.0 / n_steps] * (n_steps))\n",
    "\n",
    "beta = LinearSchedule(b_min=0.02, b_max=5.0, t0=0.0, T=2.0)\n",
    "sde = SDE(beta=beta)\n",
    "\n",
    "for _ in range(10):\n",
    "    key, subkey = jax.random.split(key)\n",
    "    init_samples = jax.random.normal(subkey, train_loader[0].shape)\n",
    "    state_f = SDEState(position=init_samples, t=ts)\n",
    "\n",
    "    revert_sde = partial(sde.reverso, score=nn_score, dts=dts)\n",
    "\n",
    "    key, subkey = jax.random.split(key)\n",
    "    state_0, state_Ts = revert_sde(subkey, state_f)\n",
    "\n",
    "    plt.imshow(state_Ts.position[-1][..., 0], cmap=\"gray\")\n",
    "    plt.show()"
   ]
  },
  {
   "cell_type": "code",
   "execution_count": null,
   "metadata": {},
   "outputs": [],
   "source": [
    "# On bruite\n",
    "key = jax.random.PRNGKey(0)\n",
    "\n",
    "x0_samples = jnp.array([train_loader[k] for k in range(config[\"batch_size\"])])\n",
    "n_x0 = x0_samples.shape[0]\n",
    "\n",
    "key, subkey = jax.random.split(key)\n",
    "ts = jax.random.uniform(key, (config[\"n_t\"] - 1, 1), minval=1e-5, maxval=config[\"tf\"])\n",
    "ts = jnp.concatenate([ts, jnp.array([[config[\"tf\"]]])], axis=0)\n",
    "\n",
    "state_0 = SDEState(x0_samples, jnp.zeros((n_x0, 1)))\n",
    "keys_x = jax.random.split(key, n_x0)\n",
    "state = jax.vmap(sde.path, in_axes=(0, 0, 0))(keys_x, state_0, ts)\n",
    "\n",
    "# On sample\n",
    "n_steps = 1000\n",
    "\n",
    "ts = jnp.array([config[\"tf\"]])\n",
    "dts = jnp.array([2.0 / n_steps] * (n_steps))\n",
    "\n",
    "beta = LinearSchedule(b_min=0.02, b_max=5.0, t0=0.0, T=2.0)\n",
    "sde = SDE(beta=beta)\n",
    "\n",
    "key, subkey = jax.random.split(key)\n",
    "init_samples = state.position[30]\n",
    "state_f = SDEState(position=init_samples, t=ts)\n",
    "\n",
    "revert_sde = partial(sde.reverso, score=nn_score, dts=dts)\n",
    "\n",
    "key, subkey = jax.random.split(key)\n",
    "state_0, state_Ts = revert_sde(subkey, state_f)"
   ]
  },
  {
   "cell_type": "code",
   "execution_count": null,
   "metadata": {},
   "outputs": [],
   "source": [
    "plt.subplot(1, 2, 1)\n",
    "plt.imshow(x0_samples[30][..., 0], cmap=\"gray\")\n",
    "\n",
    "plt.subplot(1, 2, 2)\n",
    "plt.imshow(state_Ts.position[-1][..., 0], cmap=\"gray\")\n",
    "plt.show()"
   ]
  },
  {
   "cell_type": "markdown",
   "metadata": {},
   "source": [
    "# Inverse problem"
   ]
  },
  {
   "cell_type": "code",
   "execution_count": null,
   "metadata": {},
   "outputs": [],
   "source": [
    "# Get the Datasets\n",
    "wmh = WMH(config)\n",
    "wmh.setup()\n",
    "train_loader = wmh.get_train_dataloader().dataset\n",
    "\n",
    "key = jax.random.PRNGKey(0)\n",
    "\n",
    "x = train_loader[0][..., 0].numpy()\n",
    "\n",
    "key, subkey = jax.random.split(key)\n",
    "w = jax.random.randint(subkey, shape=x.shape, minval=1, maxval=301)\n",
    "s = 2000\n",
    "\n",
    "mask = generate_mask(key, w, s)\n",
    "\n",
    "fourier_transform_x = slice_fourier(x)\n",
    "y = mask * fourier_transform_x\n",
    "\n",
    "reconstructed_x = slice_inverse_fourier(y)\n",
    "\n",
    "fig, axs = plt.subplots(1, 4, figsize=(20, 5))\n",
    "axs[0].imshow(x, cmap=\"gray\")\n",
    "axs[0].set_title(\"Original x\")\n",
    "axs[1].imshow(\n",
    "    jnp.abs(fourier_transform_x),\n",
    "    cmap=\"gray\",\n",
    "    vmin=0,\n",
    "    vmax=jnp.percentile(jnp.abs(fourier_transform_x), 99),\n",
    ")\n",
    "axs[1].set_title(\"Fourier Transform of x\")\n",
    "axs[2].imshow(jnp.abs(y), cmap=\"gray\", vmin=0, vmax=jnp.percentile(jnp.abs(y), 99))\n",
    "axs[2].set_title(\"y (Masked Fourier Transform)\")\n",
    "axs[3].imshow(jnp.abs(slice_inverse_fourier(y)), cmap=\"gray\")\n",
    "axs[3].set_title(\"Inverse Fourier of y\")\n",
    "plt.tight_layout()\n",
    "plt.show()"
   ]
  },
  {
   "cell_type": "markdown",
   "metadata": {
    "jp-MarkdownHeadingCollapsed": true
   },
   "source": [
    "# Conditional"
   ]
  },
  {
   "cell_type": "code",
   "execution_count": null,
   "metadata": {},
   "outputs": [],
   "source": [
    "# Load dataset\n",
    "wmh = WMH(config)\n",
    "wmh.setup()\n",
    "train_loader = wmh.get_train_dataloader()  # .dataset\n",
    "\n",
    "key = jax.random.PRNGKey(0)\n",
    "beta = LinearSchedule(b_min=0.02, b_max=5.0, t0=0.0, T=2.0)\n",
    "\n",
    "checkpoint = jnp.load(\n",
    "    os.path.join(config[\"save_path\"], \"ann_3355.npz\"), allow_pickle=True\n",
    ")\n",
    "\n",
    "\n",
    "nn_unet = UNet(config[\"tf\"] / config[\"n_t\"], 64, upsampling=\"pixel_shuffle\")\n",
    "params = checkpoint[\"params\"].item()\n",
    "\n",
    "\n",
    "def nn_score_(x, t, scoreNet, params):\n",
    "    return scoreNet.apply(params, x, t)\n",
    "\n",
    "\n",
    "nn_score = partial(nn_score_, scoreNet=nn_unet, params=params)\n",
    "\n",
    "sde = SDE(beta=beta)\n",
    "\n",
    "s = 2000\n",
    "\n",
    "for x in train_loader:\n",
    "    break\n",
    "\n",
    "plt.imshow(x[0, ..., 0], cmap=\"gray\")"
   ]
  },
  {
   "cell_type": "code",
   "execution_count": null,
   "metadata": {},
   "outputs": [],
   "source": [
    "size = (92, 112)\n",
    "\n",
    "# mask_fourier = maskFourier(s=2000, img_shape=size)\n",
    "\n",
    "mask_fourier = maskSpiral(\n",
    "    img_shape=(92, 112), num_spiral=1, num_samples=5000, k_max=1.0, sigma=0.2\n",
    ")\n",
    "cond_sde = CondSDE(beta=beta, mask=mask_fourier, tf=2.0, score=nn_score)\n",
    "\n",
    "fov = 1.0\n",
    "y = mask_fourier.measure(fov, x[0])\n",
    "\n",
    "\n",
    "res = generate_cond_sample(y, fov, key, cond_sde, x.shape[1:], 300, 200)"
   ]
  },
  {
   "cell_type": "code",
   "execution_count": null,
   "metadata": {},
   "outputs": [],
   "source": [
    "from vraie_vie.utils import slice_inverse_fourier\n",
    "\n",
    "x_sub = slice_inverse_fourier(y[..., 0])"
   ]
  },
  {
   "cell_type": "code",
   "execution_count": null,
   "metadata": {},
   "outputs": [],
   "source": [
    "fig, axs = plt.subplots(2, 3, figsize=(20, 10))\n",
    "axs[0, 0].imshow(x[0, ..., 0], cmap=\"gray\")\n",
    "axs[0, 0].set_title(\"Original Image\")\n",
    "\n",
    "\n",
    "mask = mask_fourier.make(fov)\n",
    "axs[0, 1].imshow(mask, cmap=\"gray\")\n",
    "axs[0, 1].set_title(\"Fourier Mask\")\n",
    "\n",
    "\n",
    "axs[0, 2].imshow(res[0][0][0][..., 0], cmap=\"gray\")\n",
    "axs[0, 2].set_title(\"Reconstructed Image\")\n",
    "\n",
    "\n",
    "axs[1, 0].imshow(x[0, ..., 1], cmap=\"gray\")\n",
    "axs[1, 0].set_title(\"Original Anomaly Map\")\n",
    "\n",
    "\n",
    "axs[1, 1].imshow(x_sub, cmap=\"gray\")\n",
    "axs[1, 1].set_title(\"Subsampled reconstruction\")\n",
    "\n",
    "axs[1, 2].imshow(res[0][0][0][..., 1], cmap=\"gray\")\n",
    "axs[1, 2].set_title(\"Reconstructed Anomaly Map\")\n",
    "\n",
    "plt.tight_layout()\n",
    "plt.show()"
   ]
  },
  {
   "cell_type": "markdown",
   "metadata": {},
   "source": [
    "# Design"
   ]
  },
  {
   "cell_type": "code",
   "execution_count": null,
   "metadata": {},
   "outputs": [
    {
     "name": "stderr",
     "output_type": "stream",
     "text": [
      "/linkhome/rech/genini01/uha64uw/.conda/envs/aoas/lib/python3.11/site-packages/jax/_src/ops/scatter.py:96: FutureWarning: scatter inputs have incompatible types: cannot safely cast value from dtype=complex64 to dtype=float32 with jax_numpy_dtype_promotion='standard'. In future JAX releases this will result in an error.\n",
      "  warnings.warn(\n",
      "/linkhome/rech/genini01/uha64uw/.conda/envs/aoas/lib/python3.11/site-packages/jax/_src/ops/scatter.py:136: ComplexWarning: Casting complex values to real discards the imaginary part\n",
      "  return lax_internal._convert_element_type(out, dtype, weak_type)\n"
     ]
    },
    {
     "data": {
      "image/png": "[encoded data removed]",
      "text/plain": [
       "<Figure size 640x480 with 1 Axes>"
      ]
     },
     "metadata": {},
     "output_type": "display_data"
    },
    {
     "data": {
      "image/png": "[encoded data removed]",
      "text/plain": [
       "<Figure size 2700x900 with 9 Axes>"
      ]
     },
     "metadata": {},
     "output_type": "display_data"
    },
    {
     "data": {
      "application/vnd.jupyter.widget-view+json": {
       "model_id": "ef680202dc584b51af1ef4c06042086c",
       "version_major": 2,
       "version_minor": 0
      },
      "text/plain": [
       "  0%|          | 0/299 [00:00<?, ?it/s]"
      ]
     },
     "metadata": {},
     "output_type": "display_data"
    }
   ],
   "source": [
    "from vraie_vie.design_wmh import main\n",
    "rng_key = key = jax.random.PRNGKey(0)\n",
    "state = main(rng_key)"
   ]
  },
  {
   "cell_type": "code",
   "execution_count": null,
   "metadata": {},
   "outputs": [],
   "source": []
  }
 ],
 "metadata": {
  "kernelspec": {
   "display_name": "Python [conda env:.conda-aoas]",
   "language": "python",
   "name": "conda-env-.conda-aoas-py"
  },
  "language_info": {
   "codemirror_mode": {
    "name": "ipython",
    "version": 3
   },
   "file_extension": ".py",
   "mimetype": "text/x-python",
   "name": "python",
   "nbconvert_exporter": "python",
   "pygments_lexer": "ipython3",
   "version": "3.11.9"
  }
 },
 "nbformat": 4,
 "nbformat_minor": 4
}
