{
 "cells": [
  {
   "cell_type": "markdown",
   "metadata": {},
   "source": [
    "# Sampling"
   ]
  },
  {
   "cell_type": "code",
   "execution_count": 1,
   "metadata": {},
   "outputs": [],
   "source": [
    "from functools import partial\n",
    "import os\n",
    "\n",
    "import jax\n",
    "import jax.numpy as jnp\n",
    "\n",
    "import matplotlib.pyplot as plt\n",
    "\n",
    "from optax import EmaState, EmptyState, ScaleByAdamState, ScaleByScheduleState\n",
    "\n",
    "from diffuse.sde import SDE, SDEState, LinearSchedule\n",
    "from diffuse.unet import UNet\n",
    "from vraie_vie.create_dataset import WMH"
   ]
  },
  {
   "cell_type": "code",
   "execution_count": 2,
   "metadata": {},
   "outputs": [],
   "source": [
    "config = {\n",
    "        \"modality\": \"FLAIR\",\n",
    "        \"slice_size_template\": 91,\n",
    "        \"flair_template_path\": \"/lustre/fswork/projects/rech/hlp/uha64uw/aistat24/WMH/MNI-FLAIR-2.0mm.nii.gz\",\n",
    "        \"path_dataset\": \"/lustre/fswork/projects/rech/hlp/uha64uw/aistat24/WMH\",\n",
    "        \"save_path\": \"/lustre/fswork/projects/rech/hlp/uha64uw/aistat24/WMH/models/\",\n",
    "        \"n_epochs\": 4000,\n",
    "        \"batch_size\": 32,\n",
    "        \"num_workers\": 0,\n",
    "        \"n_t\": 32,\n",
    "        \"tf\": 2.0,\n",
    "        \"lr\": 2e-4,\n",
    "    }"
   ]
  },
  {
   "cell_type": "code",
   "execution_count": 3,
   "metadata": {},
   "outputs": [
    {
     "name": "stdout",
     "output_type": "stream",
     "text": [
      "The history saving thread hit an unexpected error (OperationalError('disk I/O error')).History will not be written to the database.\n"
     ]
    }
   ],
   "source": [
    "# Retrieve trained Parameters\n",
    "\n",
    "checkpoint = jnp.load(os.path.join(config[\"save_path\"], \"ann_215.npz\"), allow_pickle=True)\n",
    "\n",
    "params = checkpoint[\"params\"].item()\n",
    "\n",
    "ema_state = EmaState(count=checkpoint[\"ema_state\"][0], ema=checkpoint[\"ema_state\"][1])\n",
    "\n",
    "opt_state = (\n",
    "    EmptyState(),\n",
    "    (\n",
    "        ScaleByAdamState(\n",
    "            count=checkpoint[\"opt_state_2\"][0], mu=checkpoint[\"opt_state_2\"][1], nu=checkpoint[\"opt_state_2\"][2]\n",
    "        ),\n",
    "        ScaleByScheduleState(checkpoint[\"opt_state_3\"][0]),\n",
    "    ),\n",
    ")\n",
    "\n",
    "# Get the Datasets\n",
    "wmh = WMH(config)\n",
    "wmh.setup()\n",
    "train_loader = wmh.get_train_dataloader().dataset\n",
    "\n",
    "# Get the ScoreNet\n",
    "nn_unet = UNet(config[\"tf\"] / config[\"n_t\"], 64, upsampling=\"pixel_shuffle\")\n",
    "\n",
    "def nn_score_(x, t, scoreNet, params):\n",
    "    return scoreNet.apply(params, x, t)\n",
    "\n",
    "nn_score = partial(nn_score_, scoreNet=nn_unet, params=params)"
   ]
  },
  {
   "cell_type": "code",
   "execution_count": null,
   "metadata": {},
   "outputs": [],
   "source": [
    "n_steps = 1000\n",
    "key = jax.random.PRNGKey(0)\n",
    "\n",
    "ts = jnp.array([config[\"tf\"]])\n",
    "dts = jnp.array([2.0 / n_steps] * (n_steps))\n",
    "\n",
    "beta = LinearSchedule(b_min=0.02, b_max=5.0, t0=0.0, T=2.0)\n",
    "sde = SDE(beta=beta)\n",
    "\n",
    "for _ in range(10):\n",
    "    key, subkey = jax.random.split(key)\n",
    "    init_samples = jax.random.normal(subkey, train_loader[0].shape)\n",
    "    state_f = SDEState(position=init_samples, t=ts)\n",
    "    \n",
    "    revert_sde = partial(sde.reverso, score=nn_score, dts=dts)\n",
    "    \n",
    "    key, subkey = jax.random.split(key)\n",
    "    state_0, state_Ts = revert_sde(subkey, state_f)\n",
    "    \n",
    "    plt.imshow(state_Ts.position[-1][..., 0], cmap=\"gray\")\n",
    "    plt.show()"
   ]
  },
  {
   "cell_type": "code",
   "execution_count": null,
   "metadata": {},
   "outputs": [],
   "source": [
    "# On bruite\n",
    "key = jax.random.PRNGKey(0)\n",
    "\n",
    "x0_samples = jnp.array([train_loader[k] for k in range(config['batch_size'])])\n",
    "n_x0 = x0_samples.shape[0]\n",
    "\n",
    "key, subkey = jax.random.split(key)\n",
    "ts = jax.random.uniform(key, (config['n_t'] - 1, 1), minval=1e-5, maxval=config['tf'])\n",
    "ts = jnp.concatenate([ts, jnp.array([[config['tf']]])], axis=0)\n",
    "\n",
    "state_0 = SDEState(x0_samples, jnp.zeros((n_x0, 1)))\n",
    "keys_x = jax.random.split(key, n_x0)\n",
    "state = jax.vmap(sde.path, in_axes=(0, 0, 0))(keys_x, state_0, ts)\n",
    "\n",
    "# On sample\n",
    "n_steps = 1000\n",
    "\n",
    "ts = jnp.array([config[\"tf\"]])\n",
    "dts = jnp.array([2.0 / n_steps] * (n_steps))\n",
    "\n",
    "beta = LinearSchedule(b_min=0.02, b_max=5.0, t0=0.0, T=2.0)\n",
    "sde = SDE(beta=beta)\n",
    "\n",
    "key, subkey = jax.random.split(key)\n",
    "init_samples = state.position[30]\n",
    "state_f = SDEState(position=init_samples, t=ts)\n",
    "\n",
    "revert_sde = partial(sde.reverso, score=nn_score, dts=dts)\n",
    "\n",
    "key, subkey = jax.random.split(key)\n",
    "state_0, state_Ts = revert_sde(subkey, state_f)"
   ]
  },
  {
   "cell_type": "code",
   "execution_count": null,
   "metadata": {},
   "outputs": [],
   "source": [
    "plt.subplot(1, 2, 1)\n",
    "plt.imshow(x0_samples[30][..., 0], cmap=\"gray\")\n",
    "\n",
    "plt.subplot(1, 2, 2)\n",
    "plt.imshow(state_Ts.position[-1][..., 0], cmap=\"gray\")\n",
    "plt.show()"
   ]
  }
 ],
 "metadata": {
  "kernelspec": {
   "display_name": "Python [conda env:.conda-aoas]",
   "language": "python",
   "name": "conda-env-.conda-aoas-py"
  },
  "language_info": {
   "codemirror_mode": {
    "name": "ipython",
    "version": 3
   },
   "file_extension": ".py",
   "mimetype": "text/x-python",
   "name": "python",
   "nbconvert_exporter": "python",
   "pygments_lexer": "ipython3",
   "version": "3.11.9"
  }
 },
 "nbformat": 4,
 "nbformat_minor": 4
}
