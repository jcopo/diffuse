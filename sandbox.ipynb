{
 "cells": [
  {
   "cell_type": "code",
   "execution_count": 1,
   "id": "b273c766-55fb-439b-bf63-bb683f9e1007",
   "metadata": {},
   "outputs": [],
   "source": [
    "import pdb\n",
    "from diffuse.sde import SDE, SDEState, LinearSchedule\n",
    "from diffuse.neural_networks import MLP\n",
    "from diffuse.score_matching import score_match_loss\n",
    "from jaxtyping import PyTreeDef, PRNGKeyArray\n",
    "import jax.numpy as jnp\n",
    "import jax\n",
    "from typing import Callable\n",
    "import einops\n",
    "import optax\n",
    "from tqdm import tqdm\n",
    "from diffuse.mixture import init_mixture, sampler_mixtr\n",
    "%load_ext autoreload\n",
    "%autoreload 2"
   ]
  },
  {
   "cell_type": "code",
   "execution_count": null,
   "id": "a7128b94-c7cf-4664-bff8-16c7b69fd89f",
   "metadata": {},
   "outputs": [],
   "source": [
    "model = MLP([200, 300, 1])\n",
    "x = jnp.ones((1, 1))\n",
    "t = jnp.ones((1, 1))\n",
    "init = model.init(jax.random.PRNGKey(0), x, t)\n",
    "res = model.apply(init, x, t)\n",
    "\n",
    "beta = LinearSchedule(b_min=0.02, b_max=5.0, t0=0.0, T=2.0)\n",
    "\n",
    "sde = SDE(beta)\n",
    "key = jax.random.PRNGKey(0)\n",
    "\n",
    "n_samples = 500\n",
    "mixt_state = init_mixture(key)\n",
    "samples_mixt = sampler_mixtr(key, mixt_state, n_samples)\n",
    "\n",
    "ls = score_match_loss(\n",
    "    init, key, samples_mixt, sde, 200, 2.0, lambda x: jnp.ones(x.shape[0]), model\n",
    ")\n",
    "jax.config.update(\"jax_debug_nans\", True)\n",
    "\n",
    "@jax.jit\n",
    "def loss_(nn_params, key):\n",
    "    samples_mixt = sampler_mixtr(key, mixt_state, n_samples)\n",
    "    return score_match_loss(\n",
    "        nn_params,\n",
    "        key,\n",
    "        samples_mixt,\n",
    "        sde,\n",
    "        500,\n",
    "        2.0,\n",
    "        lambda x: jnp.ones(x.shape),\n",
    "        model,\n",
    "    ).squeeze()\n",
    "\n",
    "tx = optax.adam(1e-4)\n",
    "\n",
    "@jax.jit\n",
    "def train_step(nn_params, opt_state, key):\n",
    "    g = jax.grad(loss_)(nn_params, key)\n",
    "    updates, new_state = tx.update(g, opt_state)\n",
    "    return updates, new_state\n",
    "\n",
    "opt_state = tx.init(init)\n",
    "nn_params = init\n",
    "key = jax.random.PRNGKey(0)\n",
    "losses = []\n",
    "for i in tqdm(range(1000)):\n",
    "    key, subkey = jax.random.split(key)\n",
    "    updates, opt_state = train_step(nn_params, opt_state, subkey)\n",
    "    nn_params = optax.apply_updates(nn_params, updates)\n",
    "    losses.append(loss_(nn_params, key))\n",
    "\n",
    "    "
   ]
  },
  {
   "cell_type": "code",
   "execution_count": null,
   "id": "7a02732c-e4cc-4c01-860a-99f5f44135bd",
   "metadata": {},
   "outputs": [],
   "source": [
    "loss_(nn_params, key)"
   ]
  },
  {
   "cell_type": "code",
   "execution_count": 5,
   "id": "404a6fb1-0ccc-4bf5-bffd-25389774f90c",
   "metadata": {},
   "outputs": [
    {
     "data": {
      "text/plain": [
       "[<matplotlib.lines.Line2D at 0x154a041b9630>]"
      ]
     },
     "execution_count": 5,
     "metadata": {},
     "output_type": "execute_result"
    },
    {
     "data": {
      "image/png": "[encoded data removed]",
      "text/plain": [
       "<Figure size 640x480 with 1 Axes>"
      ]
     },
     "metadata": {},
     "output_type": "display_data"
    }
   ],
   "source": [
    "import matplotlib.pyplot as plt\n",
    "plt.plot(losses)"
   ]
  },
  {
   "cell_type": "code",
   "execution_count": null,
   "id": "5cb10061-2151-458c-89db-1e52c573315a",
   "metadata": {
    "scrolled": true
   },
   "outputs": [
    {
     "name": "stderr",
     "output_type": "stream",
     "text": [
      "  0%|          | 0/1500 [00:00<?, ?it/s]"
     ]
    }
   ],
   "source": [
    "import jax\n",
    "import jax.numpy as jnp\n",
    "import pdb\n",
    "import matplotlib.pyplot as plt\n",
    "import einops\n",
    "from diffuse.unet import UNet\n",
    "from diffuse.score_matching import score_match_loss\n",
    "from diffuse.sde import SDE, LinearSchedule\n",
    "from functools import partial\n",
    "import optax\n",
    "from tqdm import tqdm\n",
    "\n",
    "data = jnp.load(\"dataset/mnist.npz\")\n",
    "key = jax.random.PRNGKey(0)\n",
    "xs = data[\"X\"]\n",
    "batch_size = 2\n",
    "\n",
    "xs = jax.random.permutation(key, xs, axis=0)\n",
    "data = einops.rearrange(xs, \"b h w -> b h w 1\")\n",
    "# plt.imshow(data[0], cmap='gray')\n",
    "# plt.show()\n",
    "dt = jnp.linspace(0, 2.0, 200)\n",
    "dt = jnp.array([2.0 / 200] * batch_size)\n",
    "\n",
    "beta = LinearSchedule(b_min=0.02, b_max=5.0, t0=0.0, T=2.0)\n",
    "sde = SDE(beta)\n",
    "\n",
    "nn_unet = UNet(dt, 64)\n",
    "init_params = nn_unet.init(key, data[:batch_size], dt)\n",
    "\n",
    "def weight_fun(t):\n",
    "    int_b = sde.beta.integrate(t, 0).squeeze()\n",
    "    return 1 - jnp.exp(-int_b)\n",
    "\n",
    "loss = partial(score_match_loss, lmbda=jax.vmap(weight_fun), network=nn_unet)\n",
    "\n",
    "\n",
    "\n",
    "n_epochs = 40\n",
    "\n",
    "nsteps_per_epoch = data.shape[0] // n_epochs\n",
    "until_steps = int(0.95 * n_epochs) * nsteps_per_epoch\n",
    "lr = 2e-4\n",
    "schedule = optax.cosine_decay_schedule(init_value=lr, decay_steps=until_steps, alpha=1e-2)\n",
    "optimizer = optax.adam(learning_rate=schedule)\n",
    "ema_kernel = optax.ema(0.99)\n",
    "\n",
    "@jax.jit\n",
    "def step(key, params, opt_state, ema_state, data):\n",
    "    val_loss, g = jax.value_and_grad(loss)(params, key, data, sde, 100, 2.0)\n",
    "    updates, opt_state = optimizer.update(g, opt_state)\n",
    "    params = optax.apply_updates(params, updates)\n",
    "    ema_params, ema_state = ema_kernel.update(params, ema_state)\n",
    "    return params, opt_state, ema_state, val_loss, ema_params\n",
    "\n",
    "params = init_params\n",
    "opt_state = optimizer.init(params)\n",
    "ema_state = ema_kernel.init(params)\n",
    "\n",
    "for epoch in range(n_epochs):\n",
    "    subkey, key = jax.random.split(key)\n",
    "    data = jax.random.permutation(subkey, data, axis=0)\n",
    "    p_bar = tqdm(range(nsteps_per_epoch))\n",
    "    for i in p_bar:\n",
    "        subkey, key = jax.random.split(key)\n",
    "        params, opt_state, ema_state, val_loss, ema_params = step(subkey, params, opt_state, ema_state, data[i:i+batch_size])\n",
    "        p_bar.set_postfix({\"loss=\": val_loss})\n"
   ]
  },
  {
   "cell_type": "code",
   "execution_count": 66,
   "id": "6ddb3522-c76c-447a-bdc5-a282c532e4f6",
   "metadata": {},
   "outputs": [],
   "source": [
    "nn_unet = UNet(dt, 64, upsampling=\"pixel_shuffle\")\n",
    "dict_param = nn_unet.init(key, jnp.ones((batch_size, 28, 28, 1)), jnp.ones((batch_size, )))\n",
    "#init_params = nn_unet.init(key, data[:batch_size], dt)\n",
    "array_param, array_to_dict = jax.flatten_util.ravel_pytree(dict_param)\n"
   ]
  },
  {
   "cell_type": "code",
   "execution_count": 2,
   "id": "9a742127-2871-4739-beaf-07381347066a",
   "metadata": {},
   "outputs": [],
   "source": [
    "import numpy as np\n",
    "import jax\n",
    "import jax.numpy as jnp\n",
    "import pdb\n",
    "import matplotlib.pyplot as plt\n",
    "import einops\n",
    "from diffuse.unet import UNet\n",
    "from diffuse.score_matching import score_match_loss\n",
    "from diffuse.sde import SDE, LinearSchedule\n",
    "from functools import partial\n",
    "import optax\n",
    "import matplotlib.pyplot as plt\n",
    "from tqdm import tqdm\n",
    "#np.savez(\"ann.npz\", params=params, ema_params=ema_params)"
   ]
  },
  {
   "cell_type": "code",
   "execution_count": 3,
   "id": "a5dc0dd9-2da7-4654-94a1-33f46cd09bcf",
   "metadata": {},
   "outputs": [],
   "source": [
    "nn_trained = jnp.load(\"ann_2999.npz\", allow_pickle=True)\n",
    "nn_params = nn_trained[\"params\"].item()\n",
    "array_param, array_to_dict = jax.flatten_util.ravel_pytree(nn_params)\n",
    "\n",
    "#nn_trained = jnp.load(\"mnist_lin_2999.npz\", allow_pickle=True)\n",
    "#nn_params = nn_trained[\"param\"]\n",
    "#nn_params = array_to_dict(nn_params)\n",
    "\n"
   ]
  },
  {
   "cell_type": "code",
   "execution_count": 4,
   "id": "8ca677d2-9dc8-4d49-afc7-2659fb5a1e82",
   "metadata": {},
   "outputs": [],
   "source": [
    "data = jnp.load(\"dataset/mnist.npz\")\n",
    "key = jax.random.PRNGKey(0)\n",
    "xs = data[\"X\"]\n",
    "tf = 2.0\n",
    "batch_size = 256\n",
    "n_epochs = 3000\n",
    "n_t = 256\n",
    "dt = tf / n_t\n",
    "\n",
    "\n",
    "xs = jax.random.permutation(key, xs, axis=0)\n",
    "data = einops.rearrange(xs, \"b h w -> b h w 1\")\n",
    "nn_unet = UNet(dt, 64, upsampling=\"pixel_shuffle\")"
   ]
  },
  {
   "cell_type": "code",
   "execution_count": 5,
   "id": "c77d9fe9-a2a5-4c82-a4b9-7202d405caed",
   "metadata": {},
   "outputs": [],
   "source": [
    "def nn_score(x, t):\n",
    "    return nn_unet.apply(nn_params, x, t)"
   ]
  },
  {
   "cell_type": "code",
   "execution_count": 6,
   "id": "f714ca21-625e-4902-a2b6-a4b3d0f1471c",
   "metadata": {},
   "outputs": [],
   "source": [
    "n_steps = 500\n",
    "rng_key = jax.random.PRNGKey(0)\n",
    "\n",
    "ts = jnp.array([tf])\n",
    "dts = jnp.array([2.0 / n_steps] * (n_steps))\n",
    "\n",
    "beta = LinearSchedule(b_min=0.02, b_max=5.0, t0=0.0, T=2.0)\n",
    "sde = SDE(beta=beta)\n",
    "\n",
    "init_samples = jax.random.normal(rng_key, data[0].shape)\n",
    "state_f = SDEState(position=init_samples, t=ts)\n",
    "\n",
    "revert_sde = partial(sde.reverso, score=nn_score, dts=dts)\n",
    "state_0, state_Ts = revert_sde(rng_key, state_f)"
   ]
  },
  {
   "cell_type": "code",
   "execution_count": 7,
   "id": "c5cdc430-b685-4b1a-8424-ce8de9f946d4",
   "metadata": {
    "scrolled": true
   },
   "outputs": [
    {
     "data": {
      "image/png": "[encoded data removed]",
      "text/plain": [
       "<Figure size 640x480 with 1 Axes>"
      ]
     },
     "metadata": {},
     "output_type": "display_data"
    }
   ],
   "source": [
    "plt.imshow(state_Ts.position[-1], cmap=\"gray\")\n",
    "plt.show()"
   ]
  },
  {
   "cell_type": "code",
   "execution_count": 11,
   "id": "cca842a6-d2c1-48fd-911d-1fe70b73397f",
   "metadata": {},
   "outputs": [
    {
     "data": {
      "image/png": "[encoded data removed]",
      "text/plain": [
       "<Figure size 1500x500 with 5 Axes>"
      ]
     },
     "metadata": {},
     "output_type": "display_data"
    }
   ],
   "source": [
    "total_frames = len(state_Ts.position)\n",
    "\n",
    "# Define the fractions\n",
    "fractions = [0.3, 0.5, 0.9, .95, 1.]\n",
    "\n",
    "# Create a figure with subplots\n",
    "fig, axs = plt.subplots(1, 5, figsize=(15, 5))\n",
    "\n",
    "for idx, fraction in enumerate(fractions):\n",
    "    # Calculate the frame index\n",
    "    frame_index = int(fraction * total_frames)\n",
    "    \n",
    "    # Plot the image\n",
    "    axs[idx].imshow(state_Ts.position[frame_index], cmap=\"gray\")\n",
    "    axs[idx].set_title(f\"Frame at {fraction*100}% of total\")\n",
    "    axs[idx].axis('off')  # Turn off axis labels\n",
    "\n",
    "plt.tight_layout()\n",
    "plt.show()"
   ]
  },
  {
   "cell_type": "code",
   "execution_count": 30,
   "id": "2aedd99a-0c6e-4756-92cb-8df441688cbc",
   "metadata": {
    "scrolled": true
   },
   "outputs": [
    {
     "data": {
      "image/png": "[encoded data removed]",
      "text/plain": [
       "<Figure size 640x480 with 1 Axes>"
      ]
     },
     "metadata": {},
     "output_type": "display_data"
    }
   ],
   "source": [
    "plt.imshow(data[10], cmap=\"gray\")\n",
    "plt.show()"
   ]
  },
  {
   "cell_type": "code",
   "execution_count": 42,
   "id": "4cb656fa-8917-4c8a-88a7-f84b408b88c0",
   "metadata": {},
   "outputs": [],
   "source": [
    "nn_trained = jnp.load(\"mnist_lin_2999.npz\", allow_pickle=True)"
   ]
  },
  {
   "cell_type": "code",
   "execution_count": 44,
   "id": "7d8f510a-3e2f-418d-884f-75acb9fc6796",
   "metadata": {},
   "outputs": [
    {
     "data": {
      "text/plain": [
       "array([-0.0035706 , -0.05850521, -0.00155016, ..., -0.06112844,\n",
       "        0.05872548,  0.04008726], dtype=float32)"
      ]
     },
     "execution_count": 44,
     "metadata": {},
     "output_type": "execute_result"
    }
   ],
   "source": [
    "nn_trained[\"ema_param\"]"
   ]
  },
  {
   "cell_type": "code",
   "execution_count": null,
   "id": "0f13a8c6-fb97-41e3-a2fc-0eb063e304b0",
   "metadata": {},
   "outputs": [],
   "source": [
    "j"
   ]
  }
 ],
 "metadata": {
  "kernelspec": {
   "display_name": "jax11",
   "language": "python",
   "name": "jax11"
  },
  "language_info": {
   "codemirror_mode": {
    "name": "ipython",
    "version": 3
   },
   "file_extension": ".py",
   "mimetype": "text/x-python",
   "name": "python",
   "nbconvert_exporter": "python",
   "pygments_lexer": "ipython3",
   "version": "3.10.10"
  }
 },
 "nbformat": 4,
 "nbformat_minor": 5
}
