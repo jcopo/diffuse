{
 "cells": [
  {
   "cell_type": "markdown",
   "metadata": {},
   "source": [
    "  Need to include:\n",
    "  - Short mathemtatical explanation of the diffusion processination of mixtures, closed form mixture when diffused and conditional inverse problems\n",
    "  - Introduction of the different components of the package (SDE, Denoiser, Timer, Integrator) joint with how diffusion models work. Plots to illustrate the components.\n",
    "  - Explain different choice for each component\n",
    "  - Plots to illustrate the diffusion on the mixture example"
   ]
  },
  {
   "cell_type": "markdown",
   "metadata": {},
   "source": [
    "Apologies for the oversight. Below is the corrected Markdown, ensuring proper formatting with consistent headers, math rendering, and clean structure, without the artifact tags since they were not requested.\n",
    "\n",
    "# Foreword: Gaussian Mixtures\n",
    "\n",
    "## Conditional Gaussian Mixture Models for Diffusion-Based Inverse Problems\n",
    "\n",
    "This module implements Bayesian inference with Gaussian mixture models (GMMs) in the context of diffusion processes and linear inverse problems.\n",
    "\n",
    "## Mathematical Background\n",
    "\n",
    "### 1. Gaussian Mixture Model (GMM)\n",
    "\n",
    "A GMM represents a probability distribution as a weighted sum of \\( K \\) Gaussian components:\n",
    "\n",
    "\\[ p(x) = \\sum_{i=1}^K w_i \\mathcal{N}(x; \\mu_i, \\Sigma_i) \\]\n",
    "\n",
    "Where:\n",
    "- \\( w_i \\geq 0 \\), \\( \\sum_i w_i = 1 \\) (mixture weights)\n",
    "- \\( \\mu_i \\in \\mathbb{R}^d \\) (component means)\n",
    "- \\( \\Sigma_i \\in \\mathbb{R}^{d \\times d} \\) (component covariance matrices)\n",
    "\n",
    "### 2. Diffusion Process\n",
    "\n",
    "The diffusion process follows the stochastic differential equation (SDE):\n",
    "\n",
    "\\[ dx(t) = -0.5 \\beta(t) x(t) \\, dt + \\sqrt{\\beta(t)} \\, dW(t) \\]\n",
    "\n",
    "The solution has the form:\n",
    "\n",
    "\\[ x(t) = \\sqrt{\\alpha(t)} x_0 + \\sqrt{1 - \\alpha(t)} \\varepsilon, \\quad \\text{where } \\varepsilon \\sim \\mathcal{N}(0, I) \\]\n",
    "\n",
    "Where \\( \\alpha(t) = \\exp\\left(-\\int_0^t \\beta(s) \\, ds\\right) \\) is the signal preservation ratio.\n",
    "\n",
    "### 3. Closed-Form Solution for GMM + Diffusion\n",
    "\n",
    "When the prior is a GMM, the diffused distribution remains a GMM:\n",
    "\n",
    "\\[ p_t(x_t) = \\sum_i w_i \\mathcal{N}(x_t; \\mu_i(t), \\Sigma_i(t)) \\]\n",
    "\n",
    "Where:\n",
    "- \\( \\mu_i(t) = \\sqrt{\\alpha(t)} \\mu_i(0) \\)\n",
    "- \\( \\Sigma_i(t) = \\alpha(t) \\Sigma_i(0) + (1 - \\alpha(t)) I \\)\n",
    "- \\( w_i(t) = w_i(0) \\) (weights unchanged)\n",
    "\n",
    "### 4. Bayesian Posterior with Linear Measurements\n",
    "\n",
    "Given measurement: \\( y = Ax + \\varepsilon \\), where \\( \\varepsilon \\sim \\mathcal{N}(0, \\sigma_y^2 I) \\)\n",
    "\n",
    "The posterior is also a GMM:\n",
    "\n",
    "\\[ p(x|y) = \\sum_i \\bar{w}_i \\mathcal{N}(x; \\bar{\\mu}_i, \\bar{\\Sigma}) \\]\n",
    "\n",
    "Where:\n",
    "- \\( \\bar{\\Sigma} = \\left(I + \\frac{1}{\\sigma_y^2} A^T A\\right)^{-1} \\)\n",
    "- \\( \\bar{\\mu}_i = \\bar{\\Sigma} \\left( \\frac{1}{\\sigma_y^2} A^T y + \\mu_i \\right) \\)\n",
    "- \\( \\bar{w}_i \\propto w_i \\times p(y|\\mu_i) \\)\n",
    "- \\( p(y|\\mu_i) = \\mathcal{N}(y; A\\mu_i, \\sigma_y^2 I + A A^T) \\)\n",
    "\n",
    "This conjugacy property makes GMMs particularly useful for diffusion-based inverse problems, as the posterior can be computed analytically at each step."
   ]
  },
  {
   "cell_type": "markdown",
   "metadata": {},
   "source": []
  }
 ],
 "metadata": {
  "kernelspec": {
   "display_name": "Python 3",
   "language": "python",
   "name": "python3"
  },
  "language_info": {
   "codemirror_mode": {
    "name": "ipython",
    "version": 3
   },
   "file_extension": ".py",
   "mimetype": "text/x-python",
   "name": "python",
   "nbconvert_exporter": "python",
   "pygments_lexer": "ipython3",
   "version": "3.8.5"
  }
 },
 "nbformat": 4,
 "nbformat_minor": 4
}
